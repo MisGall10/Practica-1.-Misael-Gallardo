{
  "nbformat": 4,
  "nbformat_minor": 0,
  "metadata": {
    "colab": {
      "provenance": [],
      "toc_visible": true,
      "authorship_tag": "ABX9TyMqxdKDbh52Jq4kceoBn5se",
      "include_colab_link": true
    },
    "kernelspec": {
      "name": "python3",
      "display_name": "Python 3"
    },
    "language_info": {
      "name": "python"
    }
  },
  "cells": [
    {
      "cell_type": "markdown",
      "metadata": {
        "id": "view-in-github",
        "colab_type": "text"
      },
      "source": [
        "<a href=\"https://colab.research.google.com/github/MisGall10/Practica1_Misael_Gallardo/blob/main/Practica3MAGC.ipynb\" target=\"_parent\"><img src=\"https://colab.research.google.com/assets/colab-badge.svg\" alt=\"Open In Colab\"/></a>"
      ]
    },
    {
      "cell_type": "markdown",
      "source": [
        "# **Practica # 2. Creacion de un arreglo y operaciones básicas**\n",
        "\n",
        "Crea un arreglo unidimensional de 20 elementos con valores aleatorios entre 1 y 100. Luego, realiza las siguientes operaciones:\n",
        "\n",
        "1. Encuentra el valor máximo del arreglo.\n",
        "\n",
        "2. Encuentra el valor mínimo del arreglo.\n",
        "\n",
        "3. Calcula la media del arreglo.\n",
        "\n",
        "4. Suma 10 a cada elemento del arreglo.\n"
      ],
      "metadata": {
        "id": "h-EPK3Z4oJJt"
      }
    },
    {
      "cell_type": "code",
      "execution_count": 20,
      "metadata": {
        "colab": {
          "base_uri": "https://localhost:8080/"
        },
        "id": "ZzqBjwZkn5-f",
        "outputId": "bc66011b-aa39-4f95-b56c-c6f973a229c5"
      },
      "outputs": [
        {
          "output_type": "stream",
          "name": "stdout",
          "text": [
            "Este es el arreglo original: [16 69 71 51 85 36 71 52 48 42 70 11 50 66 65 70 75 97 87  6]\n",
            "1. Este es el valor máximo del arreglo: 97\n",
            "2. Este es el valor minmo del arreglo: 6\n",
            "3. Esta es la media del arreglo: 56.9\n",
            "4. Esta es arreglo + 10: [ 26  79  81  61  95  46  81  62  58  52  80  21  60  76  75  80  85 107\n",
            "  97  16]\n"
          ]
        }
      ],
      "source": [
        "#Iportamos la libreria y la nombramos como np\n",
        "import numpy as np\n",
        "#iniciamos la variable arreglo y con ayuda de np.random.randit ponemos que\n",
        "#queremos valores de 0-100 y un total de 20 valores\n",
        "arreglo = np.random.randint(0,101,20)\n",
        "#Imprimimos el arreglo original\n",
        "print(f'Este es el arreglo original: {arreglo}')\n",
        "#Imprimimos el valor maximo del arreglo\n",
        "print(f'1. Este es el valor máximo del arreglo: {np.max(arreglo)}')\n",
        "#Imprimimos el valor minimo del arreglo\n",
        "print(f'2. Este es el valor minmo del arreglo: {np.min(arreglo)}')\n",
        "#Imprimimos la media del arreglo\n",
        "print(f'3. Esta es la media del arreglo: {np.mean(arreglo)}')\n",
        "#Imprimimos el valor del arreglo +10 a cada elemento\n",
        "print(f'4. Esta es arreglo + 10: {arreglo+10}')"
      ]
    }
  ]
}